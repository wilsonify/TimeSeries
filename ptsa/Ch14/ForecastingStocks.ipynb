{
 "cells": [
  {
   "cell_type": "code",
   "execution_count": 1,
   "metadata": {},
   "outputs": [],
   "source": [
    "%matplotlib inline\n",
    "\n",
    "width = 6\n",
    "height = 3\n",
    "import matplotlib\n",
    "matplotlib.rcParams['figure.figsize'] = [width, height]\n",
    "\n",
    "import pandas as pd\n",
    "import numpy as np\n",
    "import matplotlib.pyplot as plt\n",
    "\n",
    "import math\n",
    "import pdb\n",
    "\n",
    "import tensorflow as tf\n",
    "\n",
    "import sklearn\n",
    "import sklearn.preprocessing\n",
    "\n",
    "import numpy as np\n",
    "import pandas as pd\n",
    "\n",
    "from scipy.stats import pearsonr, spearmanr\n"
   ]
  },
  {
   "cell_type": "markdown",
   "metadata": {},
   "source": [
    "## Exercise:  Look at the data"
   ]
  },
  {
   "cell_type": "code",
   "execution_count": 2,
   "metadata": {},
   "outputs": [],
   "source": [
    "## we download historical data from 1990-2019\n",
    "## from Yahoo https://finance.yahoo.com/quote/%5EGSPC/history?period1=634885200&period2=1550034000&interval=1d&filter=history&frequency=1d"
   ]
  },
  {
   "cell_type": "code",
   "execution_count": 3,
   "metadata": {},
   "outputs": [],
   "source": [
    "df = pd.read_csv(\"sp500.csv\")"
   ]
  },
  {
   "cell_type": "code",
   "execution_count": 4,
   "metadata": {},
   "outputs": [
    {
     "data": {
      "text/plain": [
       "(7306, 7)"
      ]
     },
     "execution_count": 4,
     "metadata": {},
     "output_type": "execute_result"
    }
   ],
   "source": [
    "df.shape"
   ]
  },
  {
   "cell_type": "code",
   "execution_count": 5,
   "metadata": {},
   "outputs": [
    {
     "data": {
      "text/html": [
       "<div>\n",
       "<style scoped>\n",
       "    .dataframe tbody tr th:only-of-type {\n",
       "        vertical-align: middle;\n",
       "    }\n",
       "\n",
       "    .dataframe tbody tr th {\n",
       "        vertical-align: top;\n",
       "    }\n",
       "\n",
       "    .dataframe thead th {\n",
       "        text-align: right;\n",
       "    }\n",
       "</style>\n",
       "<table border=\"1\" class=\"dataframe\">\n",
       "  <thead>\n",
       "    <tr style=\"text-align: right;\">\n",
       "      <th></th>\n",
       "      <th>Date</th>\n",
       "      <th>Open</th>\n",
       "      <th>High</th>\n",
       "      <th>Low</th>\n",
       "      <th>Close</th>\n",
       "      <th>Adj Close</th>\n",
       "      <th>Volume</th>\n",
       "    </tr>\n",
       "  </thead>\n",
       "  <tbody>\n",
       "    <tr>\n",
       "      <th>0</th>\n",
       "      <td>1990-02-13</td>\n",
       "      <td>330.079987</td>\n",
       "      <td>331.609985</td>\n",
       "      <td>327.920013</td>\n",
       "      <td>331.019989</td>\n",
       "      <td>331.019989</td>\n",
       "      <td>144490000</td>\n",
       "    </tr>\n",
       "    <tr>\n",
       "      <th>1</th>\n",
       "      <td>1990-02-14</td>\n",
       "      <td>331.019989</td>\n",
       "      <td>333.200012</td>\n",
       "      <td>330.640015</td>\n",
       "      <td>332.010010</td>\n",
       "      <td>332.010010</td>\n",
       "      <td>138530000</td>\n",
       "    </tr>\n",
       "    <tr>\n",
       "      <th>2</th>\n",
       "      <td>1990-02-15</td>\n",
       "      <td>332.010010</td>\n",
       "      <td>335.209991</td>\n",
       "      <td>331.609985</td>\n",
       "      <td>334.890015</td>\n",
       "      <td>334.890015</td>\n",
       "      <td>174620000</td>\n",
       "    </tr>\n",
       "    <tr>\n",
       "      <th>3</th>\n",
       "      <td>1990-02-16</td>\n",
       "      <td>334.890015</td>\n",
       "      <td>335.640015</td>\n",
       "      <td>332.420013</td>\n",
       "      <td>332.720001</td>\n",
       "      <td>332.720001</td>\n",
       "      <td>166840000</td>\n",
       "    </tr>\n",
       "    <tr>\n",
       "      <th>4</th>\n",
       "      <td>1990-02-20</td>\n",
       "      <td>332.720001</td>\n",
       "      <td>332.720001</td>\n",
       "      <td>326.260010</td>\n",
       "      <td>327.989990</td>\n",
       "      <td>327.989990</td>\n",
       "      <td>147300000</td>\n",
       "    </tr>\n",
       "  </tbody>\n",
       "</table>\n",
       "</div>"
      ],
      "text/plain": [
       "         Date        Open        High         Low       Close   Adj Close  \\\n",
       "0  1990-02-13  330.079987  331.609985  327.920013  331.019989  331.019989   \n",
       "1  1990-02-14  331.019989  333.200012  330.640015  332.010010  332.010010   \n",
       "2  1990-02-15  332.010010  335.209991  331.609985  334.890015  334.890015   \n",
       "3  1990-02-16  334.890015  335.640015  332.420013  332.720001  332.720001   \n",
       "4  1990-02-20  332.720001  332.720001  326.260010  327.989990  327.989990   \n",
       "\n",
       "      Volume  \n",
       "0  144490000  \n",
       "1  138530000  \n",
       "2  174620000  \n",
       "3  166840000  \n",
       "4  147300000  "
      ]
     },
     "execution_count": 5,
     "metadata": {},
     "output_type": "execute_result"
    }
   ],
   "source": [
    "df.head()"
   ]
  },
  {
   "cell_type": "code",
   "execution_count": 6,
   "metadata": {},
   "outputs": [
    {
     "data": {
      "text/html": [
       "<div>\n",
       "<style scoped>\n",
       "    .dataframe tbody tr th:only-of-type {\n",
       "        vertical-align: middle;\n",
       "    }\n",
       "\n",
       "    .dataframe tbody tr th {\n",
       "        vertical-align: top;\n",
       "    }\n",
       "\n",
       "    .dataframe thead th {\n",
       "        text-align: right;\n",
       "    }\n",
       "</style>\n",
       "<table border=\"1\" class=\"dataframe\">\n",
       "  <thead>\n",
       "    <tr style=\"text-align: right;\">\n",
       "      <th></th>\n",
       "      <th>Date</th>\n",
       "      <th>Open</th>\n",
       "      <th>High</th>\n",
       "      <th>Low</th>\n",
       "      <th>Close</th>\n",
       "      <th>Adj Close</th>\n",
       "      <th>Volume</th>\n",
       "    </tr>\n",
       "  </thead>\n",
       "  <tbody>\n",
       "    <tr>\n",
       "      <th>7301</th>\n",
       "      <td>2019-02-06</td>\n",
       "      <td>2735.050049</td>\n",
       "      <td>2738.080078</td>\n",
       "      <td>2724.149902</td>\n",
       "      <td>2731.610107</td>\n",
       "      <td>2731.610107</td>\n",
       "      <td>3472690000</td>\n",
       "    </tr>\n",
       "    <tr>\n",
       "      <th>7302</th>\n",
       "      <td>2019-02-07</td>\n",
       "      <td>2717.530029</td>\n",
       "      <td>2719.320068</td>\n",
       "      <td>2687.260010</td>\n",
       "      <td>2706.050049</td>\n",
       "      <td>2706.050049</td>\n",
       "      <td>4099490000</td>\n",
       "    </tr>\n",
       "    <tr>\n",
       "      <th>7303</th>\n",
       "      <td>2019-02-08</td>\n",
       "      <td>2692.360107</td>\n",
       "      <td>2708.070068</td>\n",
       "      <td>2681.830078</td>\n",
       "      <td>2707.879883</td>\n",
       "      <td>2707.879883</td>\n",
       "      <td>3622330000</td>\n",
       "    </tr>\n",
       "    <tr>\n",
       "      <th>7304</th>\n",
       "      <td>2019-02-11</td>\n",
       "      <td>2712.399902</td>\n",
       "      <td>2718.050049</td>\n",
       "      <td>2703.790039</td>\n",
       "      <td>2709.800049</td>\n",
       "      <td>2709.800049</td>\n",
       "      <td>3361970000</td>\n",
       "    </tr>\n",
       "    <tr>\n",
       "      <th>7305</th>\n",
       "      <td>2019-02-12</td>\n",
       "      <td>2722.610107</td>\n",
       "      <td>2748.189941</td>\n",
       "      <td>2722.610107</td>\n",
       "      <td>2744.729980</td>\n",
       "      <td>2744.729980</td>\n",
       "      <td>3827770000</td>\n",
       "    </tr>\n",
       "  </tbody>\n",
       "</table>\n",
       "</div>"
      ],
      "text/plain": [
       "            Date         Open         High          Low        Close  \\\n",
       "7301  2019-02-06  2735.050049  2738.080078  2724.149902  2731.610107   \n",
       "7302  2019-02-07  2717.530029  2719.320068  2687.260010  2706.050049   \n",
       "7303  2019-02-08  2692.360107  2708.070068  2681.830078  2707.879883   \n",
       "7304  2019-02-11  2712.399902  2718.050049  2703.790039  2709.800049   \n",
       "7305  2019-02-12  2722.610107  2748.189941  2722.610107  2744.729980   \n",
       "\n",
       "        Adj Close      Volume  \n",
       "7301  2731.610107  3472690000  \n",
       "7302  2706.050049  4099490000  \n",
       "7303  2707.879883  3622330000  \n",
       "7304  2709.800049  3361970000  \n",
       "7305  2744.729980  3827770000  "
      ]
     },
     "execution_count": 6,
     "metadata": {},
     "output_type": "execute_result"
    }
   ],
   "source": [
    "df.tail()"
   ]
  },
  {
   "cell_type": "code",
   "execution_count": 7,
   "metadata": {},
   "outputs": [
    {
     "data": {
      "image/png": "[encoded data removed]",
      "text/plain": [
       "<Figure size 432x288 with 1 Axes>"
      ]
     },
     "metadata": {
      "needs_background": "light"
     },
     "output_type": "display_data"
    }
   ],
   "source": [
    "## let's first take a look at our data\n",
    "df.index = df.Date\n",
    "fig = df.Close.plot()"
   ]
  },
  {
   "cell_type": "code",
   "execution_count": 8,
   "metadata": {},
   "outputs": [
    {
     "data": {
      "text/plain": [
       "<matplotlib.axes._subplots.AxesSubplot at 0x7eff46bf1ac8>"
      ]
     },
     "execution_count": 8,
     "metadata": {},
     "output_type": "execute_result"
    },
    {
     "data": {
      "image/png": "[encoded data removed]",
      "text/plain": [
       "<Figure size 432x288 with 1 Axes>"
      ]
     },
     "metadata": {
      "needs_background": "light"
     },
     "output_type": "display_data"
    }
   ],
   "source": [
    "(df.Close - df.Open).plot()"
   ]
  },
  {
   "cell_type": "code",
   "execution_count": 9,
   "metadata": {},
   "outputs": [],
   "source": [
    "## we can see there have been several \"regime changes\"\n",
    "## although it would be difficult to set an exact date of the change\n",
    "## but do different weeks look all that different?"
   ]
  },
  {
   "cell_type": "code",
   "execution_count": 10,
   "metadata": {},
   "outputs": [
    {
     "data": {
      "text/plain": [
       "([<matplotlib.axis.XTick at 0x7eff46b64e10>,\n",
       "  <matplotlib.axis.XTick at 0x7eff46b646d8>,\n",
       "  <matplotlib.axis.XTick at 0x7eff46b64080>,\n",
       "  <matplotlib.axis.XTick at 0x7eff46b8e470>,\n",
       "  <matplotlib.axis.XTick at 0x7eff46b8e978>],\n",
       " <a list of 5 Text xticklabel objects>)"
      ]
     },
     "execution_count": 10,
     "metadata": {},
     "output_type": "execute_result"
    },
    {
     "data": {
      "image/png": "[encoded data removed]",
      "text/plain": [
       "<Figure size 432x288 with 1 Axes>"
      ]
     },
     "metadata": {
      "needs_background": "light"
     },
     "output_type": "display_data"
    }
   ],
   "source": [
    "vals = df[\"1990-05-05\":\"1990-05-11\"].Close.values\n",
    "mean_val = np.mean(vals)\n",
    "plt.plot([1, 2, 3, 4, 5], vals/mean_val)\n",
    "plt.xticks([1, 2, 3, 4, 5])"
   ]
  },
  {
   "cell_type": "code",
   "execution_count": 11,
   "metadata": {},
   "outputs": [
    {
     "data": {
      "text/plain": [
       "([<matplotlib.axis.XTick at 0x7eff46b3fa58>,\n",
       "  <matplotlib.axis.XTick at 0x7eff46b3f320>,\n",
       "  <matplotlib.axis.XTick at 0x7eff46b3f208>,\n",
       "  <matplotlib.axis.XTick at 0x7eff46ae60b8>,\n",
       "  <matplotlib.axis.XTick at 0x7eff46ae6550>],\n",
       " <a list of 5 Text xticklabel objects>)"
      ]
     },
     "execution_count": 11,
     "metadata": {},
     "output_type": "execute_result"
    },
    {
     "data": {
      "image/png": "[encoded data removed]",
      "text/plain": [
       "<Figure size 432x288 with 1 Axes>"
      ]
     },
     "metadata": {
      "needs_background": "light"
     },
     "output_type": "display_data"
    }
   ],
   "source": [
    "vals = df[\"2000-05-05\":\"2000-05-11\"].Close.values\n",
    "mean_val = np.mean(vals)\n",
    "plt.plot([1, 2, 3, 4, 5], vals/mean_val)\n",
    "plt.xticks([1, 2, 3, 4, 5])"
   ]
  },
  {
   "cell_type": "markdown",
   "metadata": {},
   "source": [
    "vals = df[\"2010-05-05\":\"2010-05-12\"].Close.values\n",
    "mean_val = np.mean(vals)\n",
    "plt.plot(vals/mean_val)"
   ]
  },
  {
   "cell_type": "code",
   "execution_count": 12,
   "metadata": {},
   "outputs": [
    {
     "data": {
      "text/plain": [
       "([<matplotlib.axis.XTick at 0x7eff46b19d68>,\n",
       "  <matplotlib.axis.XTick at 0x7eff46b196a0>,\n",
       "  <matplotlib.axis.XTick at 0x7eff46b19400>,\n",
       "  <matplotlib.axis.XTick at 0x7eff46abe358>,\n",
       "  <matplotlib.axis.XTick at 0x7eff46abe860>],\n",
       " <a list of 5 Text xticklabel objects>)"
      ]
     },
     "execution_count": 12,
     "metadata": {},
     "output_type": "execute_result"
    },
    {
     "data": {
      "image/png": "[encoded data removed]",
      "text/plain": [
       "<Figure size 432x288 with 1 Axes>"
      ]
     },
     "metadata": {
      "needs_background": "light"
     },
     "output_type": "display_data"
    }
   ],
   "source": [
    "vals = df[\"2018-05-05\":\"2018-05-11\"].Close.values\n",
    "mean_val = np.mean(vals)\n",
    "plt.plot([1, 2, 3, 4, 5], vals/mean_val)\n",
    "plt.xticks([1, 2, 3, 4, 5])"
   ]
  },
  {
   "cell_type": "code",
   "execution_count": 13,
   "metadata": {},
   "outputs": [],
   "source": [
    "## if we evaluate in terms of percent change within the week \n",
    "## none of these weeks seem distinctly different at the week-based scale to the eye"
   ]
  },
  {
   "cell_type": "markdown",
   "metadata": {},
   "source": [
    "## Data Preprocessing"
   ]
  },
  {
   "cell_type": "code",
   "execution_count": 14,
   "metadata": {},
   "outputs": [],
   "source": [
    "## We will use a deep learning approach, so we need to normalize our inputs to fall \n",
    "## within -1 to 1. we want to do so without letting information leak backwards from the future\n",
    "## so we need to have a rolling smoothing process rather than taking the global mean to normalize\n",
    "## these columns"
   ]
  },
  {
   "cell_type": "code",
   "execution_count": 15,
   "metadata": {},
   "outputs": [],
   "source": [
    "## we want to predict daily returns (imagine you choose only to buy at start of day \n",
    "## and sell at end of day)"
   ]
  },
  {
   "cell_type": "code",
   "execution_count": 16,
   "metadata": {},
   "outputs": [
    {
     "data": {
      "text/html": [
       "<div>\n",
       "<style scoped>\n",
       "    .dataframe tbody tr th:only-of-type {\n",
       "        vertical-align: middle;\n",
       "    }\n",
       "\n",
       "    .dataframe tbody tr th {\n",
       "        vertical-align: top;\n",
       "    }\n",
       "\n",
       "    .dataframe thead th {\n",
       "        text-align: right;\n",
       "    }\n",
       "</style>\n",
       "<table border=\"1\" class=\"dataframe\">\n",
       "  <thead>\n",
       "    <tr style=\"text-align: right;\">\n",
       "      <th></th>\n",
       "      <th>Date</th>\n",
       "      <th>Open</th>\n",
       "      <th>High</th>\n",
       "      <th>Low</th>\n",
       "      <th>Close</th>\n",
       "      <th>Adj Close</th>\n",
       "      <th>Volume</th>\n",
       "    </tr>\n",
       "    <tr>\n",
       "      <th>Date</th>\n",
       "      <th></th>\n",
       "      <th></th>\n",
       "      <th></th>\n",
       "      <th></th>\n",
       "      <th></th>\n",
       "      <th></th>\n",
       "      <th></th>\n",
       "    </tr>\n",
       "  </thead>\n",
       "  <tbody>\n",
       "    <tr>\n",
       "      <th>1990-02-13</th>\n",
       "      <td>1990-02-13</td>\n",
       "      <td>330.079987</td>\n",
       "      <td>331.609985</td>\n",
       "      <td>327.920013</td>\n",
       "      <td>331.019989</td>\n",
       "      <td>331.019989</td>\n",
       "      <td>144490000</td>\n",
       "    </tr>\n",
       "    <tr>\n",
       "      <th>1990-02-14</th>\n",
       "      <td>1990-02-14</td>\n",
       "      <td>331.019989</td>\n",
       "      <td>333.200012</td>\n",
       "      <td>330.640015</td>\n",
       "      <td>332.010010</td>\n",
       "      <td>332.010010</td>\n",
       "      <td>138530000</td>\n",
       "    </tr>\n",
       "    <tr>\n",
       "      <th>1990-02-15</th>\n",
       "      <td>1990-02-15</td>\n",
       "      <td>332.010010</td>\n",
       "      <td>335.209991</td>\n",
       "      <td>331.609985</td>\n",
       "      <td>334.890015</td>\n",
       "      <td>334.890015</td>\n",
       "      <td>174620000</td>\n",
       "    </tr>\n",
       "    <tr>\n",
       "      <th>1990-02-16</th>\n",
       "      <td>1990-02-16</td>\n",
       "      <td>334.890015</td>\n",
       "      <td>335.640015</td>\n",
       "      <td>332.420013</td>\n",
       "      <td>332.720001</td>\n",
       "      <td>332.720001</td>\n",
       "      <td>166840000</td>\n",
       "    </tr>\n",
       "    <tr>\n",
       "      <th>1990-02-20</th>\n",
       "      <td>1990-02-20</td>\n",
       "      <td>332.720001</td>\n",
       "      <td>332.720001</td>\n",
       "      <td>326.260010</td>\n",
       "      <td>327.989990</td>\n",
       "      <td>327.989990</td>\n",
       "      <td>147300000</td>\n",
       "    </tr>\n",
       "  </tbody>\n",
       "</table>\n",
       "</div>"
      ],
      "text/plain": [
       "                  Date        Open        High         Low       Close  \\\n",
       "Date                                                                     \n",
       "1990-02-13  1990-02-13  330.079987  331.609985  327.920013  331.019989   \n",
       "1990-02-14  1990-02-14  331.019989  333.200012  330.640015  332.010010   \n",
       "1990-02-15  1990-02-15  332.010010  335.209991  331.609985  334.890015   \n",
       "1990-02-16  1990-02-16  334.890015  335.640015  332.420013  332.720001   \n",
       "1990-02-20  1990-02-20  332.720001  332.720001  326.260010  327.989990   \n",
       "\n",
       "             Adj Close     Volume  \n",
       "Date                               \n",
       "1990-02-13  331.019989  144490000  \n",
       "1990-02-14  332.010010  138530000  \n",
       "1990-02-15  334.890015  174620000  \n",
       "1990-02-16  332.720001  166840000  \n",
       "1990-02-20  327.989990  147300000  "
      ]
     },
     "execution_count": 16,
     "metadata": {},
     "output_type": "execute_result"
    }
   ],
   "source": [
    "df.head()"
   ]
  },
  {
   "cell_type": "code",
   "execution_count": 17,
   "metadata": {},
   "outputs": [],
   "source": [
    "df['Return'] = df.Close - df.Open"
   ]
  },
  {
   "cell_type": "code",
   "execution_count": 18,
   "metadata": {},
   "outputs": [
    {
     "data": {
      "text/plain": [
       "<matplotlib.axes._subplots.AxesSubplot at 0x7eff46ad3f98>"
      ]
     },
     "execution_count": 18,
     "metadata": {},
     "output_type": "execute_result"
    },
    {
     "data": {
      "image/png": "[encoded data removed]",
      "text/plain": [
       "<Figure size 432x288 with 1 Axes>"
      ]
     },
     "metadata": {
      "needs_background": "light"
     },
     "output_type": "display_data"
    }
   ],
   "source": [
    "df.Return.plot()"
   ]
  },
  {
   "cell_type": "code",
   "execution_count": 19,
   "metadata": {},
   "outputs": [],
   "source": [
    "df['DailyVolatility'] = df.High - df.Low"
   ]
  },
  {
   "cell_type": "code",
   "execution_count": 20,
   "metadata": {},
   "outputs": [
    {
     "data": {
      "text/plain": [
       "<matplotlib.axes._subplots.AxesSubplot at 0x7eff46b2ec88>"
      ]
     },
     "execution_count": 20,
     "metadata": {},
     "output_type": "execute_result"
    },
    {
     "data": {
      "image/png": "[encoded data removed]",
      "text/plain": [
       "<Figure size 432x288 with 1 Axes>"
      ]
     },
     "metadata": {
      "needs_background": "light"
     },
     "output_type": "display_data"
    }
   ],
   "source": [
    "df.DailyVolatility.plot()"
   ]
  },
  {
   "cell_type": "code",
   "execution_count": 21,
   "metadata": {},
   "outputs": [],
   "source": [
    "## as our inputs we will use daily volatility, daily return, and daily volume\n",
    "## all should be scaled appropriately so we need to compute rolling means to scale these"
   ]
  },
  {
   "cell_type": "code",
   "execution_count": 22,
   "metadata": {},
   "outputs": [],
   "source": [
    "## we will use an exponentially weighted moving average"
   ]
  },
  {
   "cell_type": "code",
   "execution_count": 23,
   "metadata": {},
   "outputs": [],
   "source": [
    "ewdf = df.ewm(halflife = 10).mean()"
   ]
  },
  {
   "cell_type": "code",
   "execution_count": 24,
   "metadata": {},
   "outputs": [
    {
     "data": {
      "text/plain": [
       "<matplotlib.axes._subplots.AxesSubplot at 0x7eff46a15198>"
      ]
     },
     "execution_count": 24,
     "metadata": {},
     "output_type": "execute_result"
    },
    {
     "data": {
      "image/png": "[encoded data removed]",
      "text/plain": [
       "<Figure size 432x288 with 1 Axes>"
      ]
     },
     "metadata": {
      "needs_background": "light"
     },
     "output_type": "display_data"
    }
   ],
   "source": [
    "ewdf.DailyVolatility.plot()"
   ]
  },
  {
   "cell_type": "code",
   "execution_count": 25,
   "metadata": {},
   "outputs": [],
   "source": [
    "vewdf = df.ewm(halflife = 10).var()"
   ]
  },
  {
   "cell_type": "code",
   "execution_count": 26,
   "metadata": {},
   "outputs": [
    {
     "data": {
      "text/plain": [
       "<matplotlib.axes._subplots.AxesSubplot at 0x7eff37cb0f60>"
      ]
     },
     "execution_count": 26,
     "metadata": {},
     "output_type": "execute_result"
    },
    {
     "data": {
      "image/png": "[encoded data removed]",
      "text/plain": [
       "<Figure size 432x288 with 1 Axes>"
      ]
     },
     "metadata": {
      "needs_background": "light"
     },
     "output_type": "display_data"
    }
   ],
   "source": [
    "## notice that we don't fit to the smoothed values we merely use them to \n",
    "((df.DailyVolatility - ewdf.DailyVolatility)/ vewdf.DailyVolatility**0.5 ).plot()"
   ]
  },
  {
   "cell_type": "code",
   "execution_count": 27,
   "metadata": {},
   "outputs": [],
   "source": [
    "df['ScaledVolatility'] = ((df.DailyVolatility - ewdf.DailyVolatility)/ vewdf.DailyVolatility**0.5 )"
   ]
  },
  {
   "cell_type": "code",
   "execution_count": 28,
   "metadata": {},
   "outputs": [
    {
     "data": {
      "text/html": [
       "<div>\n",
       "<style scoped>\n",
       "    .dataframe tbody tr th:only-of-type {\n",
       "        vertical-align: middle;\n",
       "    }\n",
       "\n",
       "    .dataframe tbody tr th {\n",
       "        vertical-align: top;\n",
       "    }\n",
       "\n",
       "    .dataframe thead th {\n",
       "        text-align: right;\n",
       "    }\n",
       "</style>\n",
       "<table border=\"1\" class=\"dataframe\">\n",
       "  <thead>\n",
       "    <tr style=\"text-align: right;\">\n",
       "      <th></th>\n",
       "      <th>Date</th>\n",
       "      <th>Open</th>\n",
       "      <th>High</th>\n",
       "      <th>Low</th>\n",
       "      <th>Close</th>\n",
       "      <th>Adj Close</th>\n",
       "      <th>Volume</th>\n",
       "      <th>Return</th>\n",
       "      <th>DailyVolatility</th>\n",
       "      <th>ScaledVolatility</th>\n",
       "    </tr>\n",
       "    <tr>\n",
       "      <th>Date</th>\n",
       "      <th></th>\n",
       "      <th></th>\n",
       "      <th></th>\n",
       "      <th></th>\n",
       "      <th></th>\n",
       "      <th></th>\n",
       "      <th></th>\n",
       "      <th></th>\n",
       "      <th></th>\n",
       "      <th></th>\n",
       "    </tr>\n",
       "  </thead>\n",
       "  <tbody>\n",
       "    <tr>\n",
       "      <th>1990-02-13</th>\n",
       "      <td>1990-02-13</td>\n",
       "      <td>330.079987</td>\n",
       "      <td>331.609985</td>\n",
       "      <td>327.920013</td>\n",
       "      <td>331.019989</td>\n",
       "      <td>331.019989</td>\n",
       "      <td>144490000</td>\n",
       "      <td>0.940002</td>\n",
       "      <td>3.689972</td>\n",
       "      <td>NaN</td>\n",
       "    </tr>\n",
       "    <tr>\n",
       "      <th>1990-02-14</th>\n",
       "      <td>1990-02-14</td>\n",
       "      <td>331.019989</td>\n",
       "      <td>333.200012</td>\n",
       "      <td>330.640015</td>\n",
       "      <td>332.010010</td>\n",
       "      <td>332.010010</td>\n",
       "      <td>138530000</td>\n",
       "      <td>0.990021</td>\n",
       "      <td>2.559997</td>\n",
       "      <td>-0.682610</td>\n",
       "    </tr>\n",
       "    <tr>\n",
       "      <th>1990-02-15</th>\n",
       "      <td>1990-02-15</td>\n",
       "      <td>332.010010</td>\n",
       "      <td>335.209991</td>\n",
       "      <td>331.609985</td>\n",
       "      <td>334.890015</td>\n",
       "      <td>334.890015</td>\n",
       "      <td>174620000</td>\n",
       "      <td>2.880005</td>\n",
       "      <td>3.600006</td>\n",
       "      <td>0.507880</td>\n",
       "    </tr>\n",
       "    <tr>\n",
       "      <th>1990-02-16</th>\n",
       "      <td>1990-02-16</td>\n",
       "      <td>334.890015</td>\n",
       "      <td>335.640015</td>\n",
       "      <td>332.420013</td>\n",
       "      <td>332.720001</td>\n",
       "      <td>332.720001</td>\n",
       "      <td>166840000</td>\n",
       "      <td>-2.170014</td>\n",
       "      <td>3.220002</td>\n",
       "      <td>-0.088831</td>\n",
       "    </tr>\n",
       "    <tr>\n",
       "      <th>1990-02-20</th>\n",
       "      <td>1990-02-20</td>\n",
       "      <td>332.720001</td>\n",
       "      <td>332.720001</td>\n",
       "      <td>326.260010</td>\n",
       "      <td>327.989990</td>\n",
       "      <td>327.989990</td>\n",
       "      <td>147300000</td>\n",
       "      <td>-4.730011</td>\n",
       "      <td>6.459991</td>\n",
       "      <td>1.577997</td>\n",
       "    </tr>\n",
       "  </tbody>\n",
       "</table>\n",
       "</div>"
      ],
      "text/plain": [
       "                  Date        Open        High         Low       Close  \\\n",
       "Date                                                                     \n",
       "1990-02-13  1990-02-13  330.079987  331.609985  327.920013  331.019989   \n",
       "1990-02-14  1990-02-14  331.019989  333.200012  330.640015  332.010010   \n",
       "1990-02-15  1990-02-15  332.010010  335.209991  331.609985  334.890015   \n",
       "1990-02-16  1990-02-16  334.890015  335.640015  332.420013  332.720001   \n",
       "1990-02-20  1990-02-20  332.720001  332.720001  326.260010  327.989990   \n",
       "\n",
       "             Adj Close     Volume    Return  DailyVolatility  ScaledVolatility  \n",
       "Date                                                                            \n",
       "1990-02-13  331.019989  144490000  0.940002         3.689972               NaN  \n",
       "1990-02-14  332.010010  138530000  0.990021         2.559997         -0.682610  \n",
       "1990-02-15  334.890015  174620000  2.880005         3.600006          0.507880  \n",
       "1990-02-16  332.720001  166840000 -2.170014         3.220002         -0.088831  \n",
       "1990-02-20  327.989990  147300000 -4.730011         6.459991          1.577997  "
      ]
     },
     "execution_count": 28,
     "metadata": {},
     "output_type": "execute_result"
    }
   ],
   "source": [
    "df.head()"
   ]
  },
  {
   "cell_type": "code",
   "execution_count": 29,
   "metadata": {},
   "outputs": [],
   "source": [
    "df['ScaledReturn'] = ((df.Return - ewdf.Return)/ vewdf.Return**0.5 )"
   ]
  },
  {
   "cell_type": "code",
   "execution_count": 30,
   "metadata": {},
   "outputs": [],
   "source": [
    "df['ScaledVolume'] = ((df.Volume - ewdf.Volume)/ vewdf.Volume**0.5 )"
   ]
  },
  {
   "cell_type": "code",
   "execution_count": 31,
   "metadata": {},
   "outputs": [
    {
     "data": {
      "text/html": [
       "<div>\n",
       "<style scoped>\n",
       "    .dataframe tbody tr th:only-of-type {\n",
       "        vertical-align: middle;\n",
       "    }\n",
       "\n",
       "    .dataframe tbody tr th {\n",
       "        vertical-align: top;\n",
       "    }\n",
       "\n",
       "    .dataframe thead th {\n",
       "        text-align: right;\n",
       "    }\n",
       "</style>\n",
       "<table border=\"1\" class=\"dataframe\">\n",
       "  <thead>\n",
       "    <tr style=\"text-align: right;\">\n",
       "      <th></th>\n",
       "      <th>Date</th>\n",
       "      <th>Open</th>\n",
       "      <th>High</th>\n",
       "      <th>Low</th>\n",
       "      <th>Close</th>\n",
       "      <th>Adj Close</th>\n",
       "      <th>Volume</th>\n",
       "      <th>Return</th>\n",
       "      <th>DailyVolatility</th>\n",
       "      <th>ScaledVolatility</th>\n",
       "      <th>ScaledReturn</th>\n",
       "      <th>ScaledVolume</th>\n",
       "    </tr>\n",
       "    <tr>\n",
       "      <th>Date</th>\n",
       "      <th></th>\n",
       "      <th></th>\n",
       "      <th></th>\n",
       "      <th></th>\n",
       "      <th></th>\n",
       "      <th></th>\n",
       "      <th></th>\n",
       "      <th></th>\n",
       "      <th></th>\n",
       "      <th></th>\n",
       "      <th></th>\n",
       "      <th></th>\n",
       "    </tr>\n",
       "  </thead>\n",
       "  <tbody>\n",
       "    <tr>\n",
       "      <th>1990-02-13</th>\n",
       "      <td>1990-02-13</td>\n",
       "      <td>330.079987</td>\n",
       "      <td>331.609985</td>\n",
       "      <td>327.920013</td>\n",
       "      <td>331.019989</td>\n",
       "      <td>331.019989</td>\n",
       "      <td>144490000</td>\n",
       "      <td>0.940002</td>\n",
       "      <td>3.689972</td>\n",
       "      <td>NaN</td>\n",
       "      <td>NaN</td>\n",
       "      <td>NaN</td>\n",
       "    </tr>\n",
       "    <tr>\n",
       "      <th>1990-02-14</th>\n",
       "      <td>1990-02-14</td>\n",
       "      <td>331.019989</td>\n",
       "      <td>333.200012</td>\n",
       "      <td>330.640015</td>\n",
       "      <td>332.010010</td>\n",
       "      <td>332.010010</td>\n",
       "      <td>138530000</td>\n",
       "      <td>0.990021</td>\n",
       "      <td>2.559997</td>\n",
       "      <td>-0.682610</td>\n",
       "      <td>0.682610</td>\n",
       "      <td>-0.682610</td>\n",
       "    </tr>\n",
       "    <tr>\n",
       "      <th>1990-02-15</th>\n",
       "      <td>1990-02-15</td>\n",
       "      <td>332.010010</td>\n",
       "      <td>335.209991</td>\n",
       "      <td>331.609985</td>\n",
       "      <td>334.890015</td>\n",
       "      <td>334.890015</td>\n",
       "      <td>174620000</td>\n",
       "      <td>2.880005</td>\n",
       "      <td>3.600006</td>\n",
       "      <td>0.507880</td>\n",
       "      <td>1.095396</td>\n",
       "      <td>1.083513</td>\n",
       "    </tr>\n",
       "    <tr>\n",
       "      <th>1990-02-16</th>\n",
       "      <td>1990-02-16</td>\n",
       "      <td>334.890015</td>\n",
       "      <td>335.640015</td>\n",
       "      <td>332.420013</td>\n",
       "      <td>332.720001</td>\n",
       "      <td>332.720001</td>\n",
       "      <td>166840000</td>\n",
       "      <td>-2.170014</td>\n",
       "      <td>3.220002</td>\n",
       "      <td>-0.088831</td>\n",
       "      <td>-1.272816</td>\n",
       "      <td>0.567948</td>\n",
       "    </tr>\n",
       "    <tr>\n",
       "      <th>1990-02-20</th>\n",
       "      <td>1990-02-20</td>\n",
       "      <td>332.720001</td>\n",
       "      <td>332.720001</td>\n",
       "      <td>326.260010</td>\n",
       "      <td>327.989990</td>\n",
       "      <td>327.989990</td>\n",
       "      <td>147300000</td>\n",
       "      <td>-4.730011</td>\n",
       "      <td>6.459991</td>\n",
       "      <td>1.577997</td>\n",
       "      <td>-1.320389</td>\n",
       "      <td>-0.486045</td>\n",
       "    </tr>\n",
       "    <tr>\n",
       "      <th>1990-02-21</th>\n",
       "      <td>1990-02-21</td>\n",
       "      <td>327.910004</td>\n",
       "      <td>328.170013</td>\n",
       "      <td>324.470001</td>\n",
       "      <td>327.670013</td>\n",
       "      <td>327.670013</td>\n",
       "      <td>159240000</td>\n",
       "      <td>-0.239991</td>\n",
       "      <td>3.700012</td>\n",
       "      <td>-0.172130</td>\n",
       "      <td>0.112849</td>\n",
       "      <td>0.261347</td>\n",
       "    </tr>\n",
       "    <tr>\n",
       "      <th>1990-02-22</th>\n",
       "      <td>1990-02-22</td>\n",
       "      <td>327.670013</td>\n",
       "      <td>330.980011</td>\n",
       "      <td>325.700012</td>\n",
       "      <td>325.700012</td>\n",
       "      <td>325.700012</td>\n",
       "      <td>184320000</td>\n",
       "      <td>-1.970001</td>\n",
       "      <td>5.279999</td>\n",
       "      <td>0.820098</td>\n",
       "      <td>-0.465662</td>\n",
       "      <td>1.393322</td>\n",
       "    </tr>\n",
       "    <tr>\n",
       "      <th>1990-02-23</th>\n",
       "      <td>1990-02-23</td>\n",
       "      <td>325.700012</td>\n",
       "      <td>326.149994</td>\n",
       "      <td>322.100006</td>\n",
       "      <td>324.149994</td>\n",
       "      <td>324.149994</td>\n",
       "      <td>148490000</td>\n",
       "      <td>-1.550018</td>\n",
       "      <td>4.049988</td>\n",
       "      <td>-0.082992</td>\n",
       "      <td>-0.275037</td>\n",
       "      <td>-0.635063</td>\n",
       "    </tr>\n",
       "    <tr>\n",
       "      <th>1990-02-26</th>\n",
       "      <td>1990-02-26</td>\n",
       "      <td>324.160004</td>\n",
       "      <td>328.670013</td>\n",
       "      <td>323.980011</td>\n",
       "      <td>328.670013</td>\n",
       "      <td>328.670013</td>\n",
       "      <td>148900000</td>\n",
       "      <td>4.510009</td>\n",
       "      <td>4.690002</td>\n",
       "      <td>0.401505</td>\n",
       "      <td>1.583178</td>\n",
       "      <td>-0.551605</td>\n",
       "    </tr>\n",
       "    <tr>\n",
       "      <th>1990-02-27</th>\n",
       "      <td>1990-02-27</td>\n",
       "      <td>328.679993</td>\n",
       "      <td>331.940002</td>\n",
       "      <td>328.470001</td>\n",
       "      <td>330.260010</td>\n",
       "      <td>330.260010</td>\n",
       "      <td>152590000</td>\n",
       "      <td>1.580017</td>\n",
       "      <td>3.470001</td>\n",
       "      <td>-0.600702</td>\n",
       "      <td>0.533116</td>\n",
       "      <td>-0.288110</td>\n",
       "    </tr>\n",
       "    <tr>\n",
       "      <th>1990-02-28</th>\n",
       "      <td>1990-02-28</td>\n",
       "      <td>330.260010</td>\n",
       "      <td>333.480011</td>\n",
       "      <td>330.160004</td>\n",
       "      <td>331.890015</td>\n",
       "      <td>331.890015</td>\n",
       "      <td>184400000</td>\n",
       "      <td>1.630005</td>\n",
       "      <td>3.320007</td>\n",
       "      <td>-0.668144</td>\n",
       "      <td>0.507159</td>\n",
       "      <td>1.478883</td>\n",
       "    </tr>\n",
       "    <tr>\n",
       "      <th>1990-03-01</th>\n",
       "      <td>1990-03-01</td>\n",
       "      <td>331.890015</td>\n",
       "      <td>334.399994</td>\n",
       "      <td>331.079987</td>\n",
       "      <td>332.739990</td>\n",
       "      <td>332.739990</td>\n",
       "      <td>157930000</td>\n",
       "      <td>0.849975</td>\n",
       "      <td>3.320007</td>\n",
       "      <td>-0.612112</td>\n",
       "      <td>0.199263</td>\n",
       "      <td>-0.128564</td>\n",
       "    </tr>\n",
       "  </tbody>\n",
       "</table>\n",
       "</div>"
      ],
      "text/plain": [
       "                  Date        Open        High         Low       Close  \\\n",
       "Date                                                                     \n",
       "1990-02-13  1990-02-13  330.079987  331.609985  327.920013  331.019989   \n",
       "1990-02-14  1990-02-14  331.019989  333.200012  330.640015  332.010010   \n",
       "1990-02-15  1990-02-15  332.010010  335.209991  331.609985  334.890015   \n",
       "1990-02-16  1990-02-16  334.890015  335.640015  332.420013  332.720001   \n",
       "1990-02-20  1990-02-20  332.720001  332.720001  326.260010  327.989990   \n",
       "1990-02-21  1990-02-21  327.910004  328.170013  324.470001  327.670013   \n",
       "1990-02-22  1990-02-22  327.670013  330.980011  325.700012  325.700012   \n",
       "1990-02-23  1990-02-23  325.700012  326.149994  322.100006  324.149994   \n",
       "1990-02-26  1990-02-26  324.160004  328.670013  323.980011  328.670013   \n",
       "1990-02-27  1990-02-27  328.679993  331.940002  328.470001  330.260010   \n",
       "1990-02-28  1990-02-28  330.260010  333.480011  330.160004  331.890015   \n",
       "1990-03-01  1990-03-01  331.890015  334.399994  331.079987  332.739990   \n",
       "\n",
       "             Adj Close     Volume    Return  DailyVolatility  \\\n",
       "Date                                                           \n",
       "1990-02-13  331.019989  144490000  0.940002         3.689972   \n",
       "1990-02-14  332.010010  138530000  0.990021         2.559997   \n",
       "1990-02-15  334.890015  174620000  2.880005         3.600006   \n",
       "1990-02-16  332.720001  166840000 -2.170014         3.220002   \n",
       "1990-02-20  327.989990  147300000 -4.730011         6.459991   \n",
       "1990-02-21  327.670013  159240000 -0.239991         3.700012   \n",
       "1990-02-22  325.700012  184320000 -1.970001         5.279999   \n",
       "1990-02-23  324.149994  148490000 -1.550018         4.049988   \n",
       "1990-02-26  328.670013  148900000  4.510009         4.690002   \n",
       "1990-02-27  330.260010  152590000  1.580017         3.470001   \n",
       "1990-02-28  331.890015  184400000  1.630005         3.320007   \n",
       "1990-03-01  332.739990  157930000  0.849975         3.320007   \n",
       "\n",
       "            ScaledVolatility  ScaledReturn  ScaledVolume  \n",
       "Date                                                      \n",
       "1990-02-13               NaN           NaN           NaN  \n",
       "1990-02-14         -0.682610      0.682610     -0.682610  \n",
       "1990-02-15          0.507880      1.095396      1.083513  \n",
       "1990-02-16         -0.088831     -1.272816      0.567948  \n",
       "1990-02-20          1.577997     -1.320389     -0.486045  \n",
       "1990-02-21         -0.172130      0.112849      0.261347  \n",
       "1990-02-22          0.820098     -0.465662      1.393322  \n",
       "1990-02-23         -0.082992     -0.275037     -0.635063  \n",
       "1990-02-26          0.401505      1.583178     -0.551605  \n",
       "1990-02-27         -0.600702      0.533116     -0.288110  \n",
       "1990-02-28         -0.668144      0.507159      1.478883  \n",
       "1990-03-01         -0.612112      0.199263     -0.128564  "
      ]
     },
     "execution_count": 31,
     "metadata": {},
     "output_type": "execute_result"
    }
   ],
   "source": [
    "df.head(12)"
   ]
  },
  {
   "cell_type": "code",
   "execution_count": 32,
   "metadata": {},
   "outputs": [],
   "source": [
    "## remove first row, which has na\n",
    "df = df.dropna()"
   ]
  },
  {
   "cell_type": "code",
   "execution_count": 33,
   "metadata": {},
   "outputs": [],
   "source": [
    "## now we need to form input arrays and target arrays\n",
    "## let's try to predict just a day ahead and see how we do\n",
    "## predicting stock prices is notoriously difficult so we should not\n",
    "## get ahead of ourselves"
   ]
  },
  {
   "cell_type": "code",
   "execution_count": 34,
   "metadata": {},
   "outputs": [],
   "source": [
    "train_df = df[:7000]\n",
    "test_df = df[7000:]\n",
    "X = train_df[:(7000 - 10)][[\"ScaledVolatility\", \"ScaledReturn\", \"ScaledVolume\"]].values\n",
    "Y = train_df[10:][\"ScaledReturn\"].values\n"
   ]
  },
  {
   "cell_type": "code",
   "execution_count": 35,
   "metadata": {},
   "outputs": [],
   "source": [
    "## however batches are usually in form TNC\n",
    "## time, num examples, channels\n",
    "## so we need to reshape"
   ]
  },
  {
   "cell_type": "code",
   "execution_count": 36,
   "metadata": {},
   "outputs": [
    {
     "data": {
      "text/plain": [
       "(6990, 3)"
      ]
     },
     "execution_count": 36,
     "metadata": {},
     "output_type": "execute_result"
    }
   ],
   "source": [
    "X.shape"
   ]
  },
  {
   "cell_type": "code",
   "execution_count": 37,
   "metadata": {},
   "outputs": [],
   "source": [
    "X = np.expand_dims(X, axis = 1)"
   ]
  },
  {
   "cell_type": "code",
   "execution_count": 38,
   "metadata": {},
   "outputs": [
    {
     "data": {
      "text/plain": [
       "(6990, 1, 3)"
      ]
     },
     "execution_count": 38,
     "metadata": {},
     "output_type": "execute_result"
    }
   ],
   "source": [
    "X.shape"
   ]
  },
  {
   "cell_type": "markdown",
   "metadata": {},
   "source": [
    "## Exercise: reshape X into 'TNC' form with numpy operations"
   ]
  },
  {
   "cell_type": "code",
   "execution_count": 39,
   "metadata": {},
   "outputs": [],
   "source": [
    "X = np.split(X, X.shape[0]/10, axis = 0)"
   ]
  },
  {
   "cell_type": "code",
   "execution_count": 40,
   "metadata": {},
   "outputs": [],
   "source": [
    "X = np.concatenate(X, axis = 1)"
   ]
  },
  {
   "cell_type": "code",
   "execution_count": 41,
   "metadata": {},
   "outputs": [
    {
     "data": {
      "text/plain": [
       "(10, 699, 3)"
      ]
     },
     "execution_count": 41,
     "metadata": {},
     "output_type": "execute_result"
    }
   ],
   "source": [
    "X.shape"
   ]
  },
  {
   "cell_type": "code",
   "execution_count": 42,
   "metadata": {},
   "outputs": [
    {
     "data": {
      "text/plain": [
       "array([ 0.68261013,  1.09539587, -1.2728162 , -1.32038878,  0.1128491 ,\n",
       "       -0.46566243, -0.27503675,  1.5831776 ,  0.53311559,  0.50715858])"
      ]
     },
     "execution_count": 42,
     "metadata": {},
     "output_type": "execute_result"
    }
   ],
   "source": [
    "X[:, 0, 1]"
   ]
  },
  {
   "cell_type": "code",
   "execution_count": 43,
   "metadata": {},
   "outputs": [
    {
     "data": {
      "text/plain": [
       "array([ 0.1992625 ,  0.8803464 , -0.88575025,  1.31202992, -0.62081656,\n",
       "        0.9699946 , -1.06775852,  0.06323974, -1.17051705,  0.21707769])"
      ]
     },
     "execution_count": 43,
     "metadata": {},
     "output_type": "execute_result"
    }
   ],
   "source": [
    "X[:, 1, 1]"
   ]
  },
  {
   "cell_type": "code",
   "execution_count": 44,
   "metadata": {},
   "outputs": [
    {
     "data": {
      "text/plain": [
       "array([ 0.33628914,  1.29029955,  0.35875567, -1.0627572 , -0.92827774,\n",
       "       -1.57810457,  0.55630126,  0.10533493,  1.35843311,  0.02266415])"
      ]
     },
     "execution_count": 44,
     "metadata": {},
     "output_type": "execute_result"
    }
   ],
   "source": [
    "X[:, 2, 1]"
   ]
  },
  {
   "cell_type": "code",
   "execution_count": 45,
   "metadata": {},
   "outputs": [
    {
     "data": {
      "text/plain": [
       "array([[ 0.68261013],\n",
       "       [ 1.09539587],\n",
       "       [-1.2728162 ],\n",
       "       [-1.32038878],\n",
       "       [ 0.1128491 ],\n",
       "       [-0.46566243],\n",
       "       [-0.27503675],\n",
       "       [ 1.5831776 ],\n",
       "       [ 0.53311559],\n",
       "       [ 0.50715858],\n",
       "       [ 0.1992625 ],\n",
       "       [ 0.8803464 ],\n",
       "       [-0.88575025],\n",
       "       [ 1.31202992],\n",
       "       [-0.62081656],\n",
       "       [ 0.9699946 ],\n",
       "       [-1.06775852],\n",
       "       [ 0.06323974],\n",
       "       [-1.17051705],\n",
       "       [ 0.21707769],\n",
       "       [ 0.33628914],\n",
       "       [ 1.29029955],\n",
       "       [ 0.35875567],\n",
       "       [-1.0627572 ],\n",
       "       [-0.92827774],\n",
       "       [-1.57810457],\n",
       "       [ 0.55630126],\n",
       "       [ 0.10533493],\n",
       "       [ 1.35843311],\n",
       "       [ 0.02266415],\n",
       "       [-0.64458727]])"
      ]
     },
     "execution_count": 45,
     "metadata": {},
     "output_type": "execute_result"
    }
   ],
   "source": [
    "train_df[:(7000 - 10)][[\"ScaledReturn\"]].values[:31]"
   ]
  },
  {
   "cell_type": "code",
   "execution_count": 46,
   "metadata": {},
   "outputs": [],
   "source": [
    "Y_test = Y[::10]"
   ]
  },
  {
   "cell_type": "code",
   "execution_count": 47,
   "metadata": {},
   "outputs": [
    {
     "data": {
      "text/plain": [
       "array([ 0.1992625 ,  0.33628914, -0.64458727])"
      ]
     },
     "execution_count": 47,
     "metadata": {},
     "output_type": "execute_result"
    }
   ],
   "source": [
    "Y_test[:3]"
   ]
  },
  {
   "cell_type": "code",
   "execution_count": 48,
   "metadata": {},
   "outputs": [],
   "source": [
    "Y = Y_test"
   ]
  },
  {
   "cell_type": "code",
   "execution_count": 49,
   "metadata": {},
   "outputs": [
    {
     "data": {
      "text/plain": [
       "(10, 699, 3)"
      ]
     },
     "execution_count": 49,
     "metadata": {},
     "output_type": "execute_result"
    }
   ],
   "source": [
    "X.shape"
   ]
  },
  {
   "cell_type": "code",
   "execution_count": 50,
   "metadata": {},
   "outputs": [
    {
     "data": {
      "text/plain": [
       "(699,)"
      ]
     },
     "execution_count": 50,
     "metadata": {},
     "output_type": "execute_result"
    }
   ],
   "source": [
    "Y.shape"
   ]
  },
  {
   "cell_type": "code",
   "execution_count": 51,
   "metadata": {},
   "outputs": [],
   "source": [
    "## notice that we only used each data point once\n",
    "## but actually each data point can belong to many series, occupying a different position in the series\n",
    "## say it could be the first point or the last point or a middle point in the time series\n",
    "## rather than explicitly expanding out, we will simply cut off a random number of points\n",
    "## at each end so that for each epoch through training, we'll have different series"
   ]
  },
  {
   "cell_type": "markdown",
   "metadata": {},
   "source": [
    "## Build the neural network"
   ]
  },
  {
   "cell_type": "code",
   "execution_count": 52,
   "metadata": {},
   "outputs": [],
   "source": [
    "NUM_HIDDEN    = 8\n",
    "NUM_LAYERS    = 1\n",
    "LEARNING_RATE = 1e-2\n",
    "EPOCHS        = 10\n",
    "BATCH_SIZE    = 64\n",
    "WINDOW_SIZE   = 20"
   ]
  },
  {
   "cell_type": "code",
   "execution_count": 53,
   "metadata": {},
   "outputs": [],
   "source": [
    "Xinp = tf.placeholder(dtype = tf.float32, shape = [WINDOW_SIZE, None, 3])\n",
    "Yinp = tf.placeholder(dtype = tf.float32, shape = [None])"
   ]
  },
  {
   "cell_type": "code",
   "execution_count": 54,
   "metadata": {},
   "outputs": [],
   "source": [
    "with tf.variable_scope(\"scope1\", reuse=tf.AUTO_REUSE):\n",
    "    #rnn_cell = tf.nn.rnn_cell.LSTMCell(NUM_HIDDEN, dtype = tf.float32)\n",
    "    #rnn_cell = tf.nn.rnn_cell.DropoutWrapper(rnn_cell, output_keep_prob=0.9)\n",
    "    #rnn_output, states = tf.nn.dynamic_rnn(rnn_cell, Xinp, dtype=tf.float32) \n",
    "    \n",
    "    ## tf.nn.rnn_cell.MultiRNNCell\n",
    "    cells = [tf.nn.rnn_cell.LSTMCell(num_units=NUM_HIDDEN) for n in range(NUM_LAYERS)]\n",
    "    stacked_rnn_cell = tf.nn.rnn_cell.MultiRNNCell(cells)\n",
    "    rnn_output, states = tf.nn.dynamic_rnn(stacked_rnn_cell, Xinp, dtype=tf.float32) \n",
    "    W = tf.get_variable(\"W_fc\", [NUM_HIDDEN, 1], initializer = tf.random_uniform_initializer(-.2, .2))\n",
    "    output = tf.squeeze(tf.matmul(rnn_output[-1, :, :], W))\n",
    "    ## notice we have no bias because we expect average zero return\n",
    "    loss = tf.nn.l2_loss(output - Yinp)\n",
    "    opt = tf.train.GradientDescentOptimizer(LEARNING_RATE)\n",
    "    ##opt = tf.train.AdamOptimizer(LEARNING_RATE)\n",
    "    train_step = opt.minimize(loss)"
   ]
  },
  {
   "cell_type": "code",
   "execution_count": 55,
   "metadata": {},
   "outputs": [],
   "source": [
    "## need to loop through data and find a way to jitter data \n",
    "## then need to also compute validation loss\n",
    "## and need to record results"
   ]
  },
  {
   "cell_type": "code",
   "execution_count": 56,
   "metadata": {},
   "outputs": [],
   "source": [
    "sess = tf.Session()\n",
    "sess.run(tf.tables_initializer())\n",
    "sess.run(tf.global_variables_initializer())"
   ]
  },
  {
   "cell_type": "code",
   "execution_count": 57,
   "metadata": {},
   "outputs": [
    {
     "name": "stdout",
     "output_type": "stream",
     "text": [
      "Epoch: 0   Training loss: 3202.92   Testing loss 4.65:\n",
      "Epoch: 1   Training loss: 3198.72   Testing loss 4.61:\n",
      "Epoch: 2   Training loss: 3196.39   Testing loss 4.56:\n",
      "Epoch: 3   Training loss: 3194.44   Testing loss 4.51:\n",
      "Epoch: 4   Training loss: 3192.61   Testing loss 4.48:\n",
      "Epoch: 5   Training loss: 3190.75   Testing loss 4.45:\n",
      "Epoch: 6   Training loss: 3188.83   Testing loss 4.42:\n",
      "Epoch: 7   Training loss: 3186.87   Testing loss 4.40:\n",
      "Epoch: 8   Training loss: 3184.98   Testing loss 4.37:\n",
      "Epoch: 9   Training loss: 3183.21   Testing loss 4.35:\n"
     ]
    }
   ],
   "source": [
    "## for each epoch\n",
    "y_hat_dict = {}\n",
    "Y_dict = {}\n",
    "\n",
    "in_sample_Y_dict = {}\n",
    "in_sample_y_hat_dict = {}\n",
    "\n",
    "for ep in range(EPOCHS):\n",
    "    ## for each offset to create a new series of distinct time series \n",
    "    ## (re: overlapping issue we talked about previously)\n",
    "    epoch_training_loss = 0.0\n",
    "    for i in range(WINDOW_SIZE):\n",
    "        X = train_df[:(7000 - WINDOW_SIZE)][[\"ScaledVolatility\", \"ScaledReturn\", \"ScaledVolume\"]].values\n",
    "        Y = train_df[WINDOW_SIZE:][\"ScaledReturn\"].values\n",
    "\n",
    "        ## make it divisible by window size\n",
    "        num_to_unpack = math.floor(X.shape[0] / WINDOW_SIZE)\n",
    "        start_idx = X.shape[0] - num_to_unpack * WINDOW_SIZE\n",
    "        X = X[start_idx:] \n",
    "        Y = Y[start_idx:]  \n",
    "        \n",
    "        X = X[i:-(WINDOW_SIZE-i)]\n",
    "        Y = Y[i:-(WINDOW_SIZE-i)]                                \n",
    "        \n",
    "        X = np.expand_dims(X, axis = 1)\n",
    "        X = np.split(X, X.shape[0]/WINDOW_SIZE, axis = 0)\n",
    "        X = np.concatenate(X, axis = 1)\n",
    "        Y = Y[::WINDOW_SIZE]\n",
    "        ## TRAINING\n",
    "        ## now batch it and run a sess\n",
    "        for j in range(math.ceil(Y.shape[0] / BATCH_SIZE)):\n",
    "            ll = BATCH_SIZE * j\n",
    "            ul = BATCH_SIZE * (j + 1)\n",
    "            \n",
    "            if ul > X.shape[1]:\n",
    "                ul = X.shape[1] - 1\n",
    "                ll = X.shape[1]- BATCH_SIZE\n",
    "            \n",
    "            training_loss, _, y_hat = sess.run([loss, train_step, output],\n",
    "                                       feed_dict = {\n",
    "                                           Xinp: X[:, ll:ul, :], Yinp: Y[ll:ul]\n",
    "                                       })\n",
    "            epoch_training_loss += training_loss          \n",
    "            \n",
    "            in_sample_Y_dict[ep]     = Y[ll:ul] ## notice this will only net us the last part of data trained on\n",
    "            in_sample_y_hat_dict[ep] = y_hat\n",
    "            \n",
    "        ## TESTING\n",
    "        X = test_df[:(test_df.shape[0] - WINDOW_SIZE)][[\"ScaledVolatility\", \"ScaledReturn\", \"ScaledVolume\"]].values\n",
    "        Y = test_df[WINDOW_SIZE:][\"ScaledReturn\"].values\n",
    "        num_to_unpack = math.floor(X.shape[0] / WINDOW_SIZE)\n",
    "        start_idx = X.shape[0] - num_to_unpack * WINDOW_SIZE\n",
    "        X = X[start_idx:] ## better to throw away beginning than end of training period when must delete\n",
    "        Y = Y[start_idx:]                              \n",
    "        \n",
    "        X = np.expand_dims(X, axis = 1)\n",
    "        X = np.split(X, X.shape[0]/WINDOW_SIZE, axis = 0)\n",
    "        X = np.concatenate(X, axis = 1)\n",
    "        Y = Y[::WINDOW_SIZE]\n",
    "        testing_loss, y_hat = sess.run([loss, output],\n",
    "                                 feed_dict = { Xinp: X, Yinp: Y })\n",
    "        ## nb this is not great. we should really have a validation loss apart from testing\n",
    "        \n",
    "    print(\"Epoch: %d   Training loss: %0.2f   Testing loss %0.2f:\" % (ep, epoch_training_loss, testing_loss))\n",
    "    Y_dict[ep] = Y\n",
    "    y_hat_dict[ep] = y_hat\n",
    "    "
   ]
  },
  {
   "cell_type": "code",
   "execution_count": 58,
   "metadata": {},
   "outputs": [
    {
     "data": {
      "image/png": "[encoded data removed]",
      "text/plain": [
       "<Figure size 432x288 with 1 Axes>"
      ]
     },
     "metadata": {
      "needs_background": "light"
     },
     "output_type": "display_data"
    }
   ],
   "source": [
    "plt.plot(Y_dict[EPOCHS - 1])\n",
    "plt.plot(y_hat_dict[EPOCHS - 1], 'r')\n",
    "plt.title('Out of sample performance')\n",
    "plt.show()"
   ]
  },
  {
   "cell_type": "code",
   "execution_count": 59,
   "metadata": {},
   "outputs": [
    {
     "data": {
      "image/png": "[encoded data removed]",
      "text/plain": [
       "<Figure size 432x288 with 1 Axes>"
      ]
     },
     "metadata": {
      "needs_background": "light"
     },
     "output_type": "display_data"
    }
   ],
   "source": [
    "plt.plot(in_sample_Y_dict[EPOCHS - 1])\n",
    "plt.plot(in_sample_y_hat_dict[EPOCHS - 1], 'r')\n",
    "plt.title('In sample performance')\n",
    "plt.show()"
   ]
  },
  {
   "cell_type": "code",
   "execution_count": 60,
   "metadata": {},
   "outputs": [
    {
     "data": {
      "text/plain": [
       "(0.4510042465998294, 0.1055373665178873)"
      ]
     },
     "execution_count": 60,
     "metadata": {},
     "output_type": "execute_result"
    }
   ],
   "source": [
    "pearsonr(Y_dict[EPOCHS - 1], y_hat_dict[EPOCHS - 1])"
   ]
  },
  {
   "cell_type": "code",
   "execution_count": 61,
   "metadata": {},
   "outputs": [
    {
     "data": {
      "text/plain": [
       "(0.15432340876554151, 0.227191315279568)"
      ]
     },
     "execution_count": 61,
     "metadata": {},
     "output_type": "execute_result"
    }
   ],
   "source": [
    "pearsonr(in_sample_Y_dict[EPOCHS - 1], in_sample_y_hat_dict[EPOCHS - 1])"
   ]
  },
  {
   "cell_type": "code",
   "execution_count": 62,
   "metadata": {},
   "outputs": [
    {
     "data": {
      "text/plain": [
       "SpearmanrResult(correlation=0.14725274725274726, pvalue=0.6154187624847252)"
      ]
     },
     "execution_count": 62,
     "metadata": {},
     "output_type": "execute_result"
    }
   ],
   "source": [
    "spearmanr(Y_dict[EPOCHS - 1], y_hat_dict[EPOCHS - 1])"
   ]
  },
  {
   "cell_type": "code",
   "execution_count": 63,
   "metadata": {},
   "outputs": [
    {
     "data": {
      "text/plain": [
       "SpearmanrResult(correlation=0.09250192012288787, pvalue=0.47087456001778494)"
      ]
     },
     "execution_count": 63,
     "metadata": {},
     "output_type": "execute_result"
    }
   ],
   "source": [
    "spearmanr(in_sample_Y_dict[EPOCHS - 1], in_sample_y_hat_dict[EPOCHS - 1])"
   ]
  },
  {
   "cell_type": "code",
   "execution_count": 64,
   "metadata": {},
   "outputs": [
    {
     "data": {
      "image/png": "[encoded data removed]",
      "text/plain": [
       "<Figure size 432x288 with 1 Axes>"
      ]
     },
     "metadata": {
      "needs_background": "light"
     },
     "output_type": "display_data"
    }
   ],
   "source": [
    "plt.plot(Y_dict[EPOCHS - 1])\n",
    "plt.plot(y_hat_dict[EPOCHS - 1] * 10, 'r')\n",
    "plt.title('Rescaled out of sample performance')\n",
    "plt.show()"
   ]
  },
  {
   "cell_type": "code",
   "execution_count": 65,
   "metadata": {},
   "outputs": [
    {
     "data": {
      "image/png": "[encoded data removed]",
      "text/plain": [
       "<Figure size 432x288 with 1 Axes>"
      ]
     },
     "metadata": {
      "needs_background": "light"
     },
     "output_type": "display_data"
    }
   ],
   "source": [
    "plt.plot(in_sample_Y_dict[EPOCHS - 1])\n",
    "plt.plot(in_sample_y_hat_dict[EPOCHS - 1] * 10, 'r')\n",
    "plt.title('Rescaled in sample performance')\n",
    "plt.show()"
   ]
  },
  {
   "cell_type": "code",
   "execution_count": 66,
   "metadata": {},
   "outputs": [
    {
     "data": {
      "text/plain": [
       "[<matplotlib.lines.Line2D at 0x7eff343fc470>]"
      ]
     },
     "execution_count": 66,
     "metadata": {},
     "output_type": "execute_result"
    },
    {
     "data": {
      "image/png": "[encoded data removed]",
      "text/plain": [
       "<Figure size 432x288 with 1 Axes>"
      ]
     },
     "metadata": {
      "needs_background": "light"
     },
     "output_type": "display_data"
    }
   ],
   "source": [
    "plt.plot(Y_dict[EPOCHS - 1], y_hat_dict[EPOCHS - 1] * 10, linestyle=\"\", marker=\"o\")"
   ]
  },
  {
   "cell_type": "code",
   "execution_count": 68,
   "metadata": {},
   "outputs": [
    {
     "data": {
      "text/plain": [
       "(0.4510042465998294, 0.1055373665178873)"
      ]
     },
     "execution_count": 68,
     "metadata": {},
     "output_type": "execute_result"
    }
   ],
   "source": [
    "pearsonr(Y_dict[EPOCHS - 1], y_hat_dict[EPOCHS - 1])"
   ]
  },
  {
   "cell_type": "code",
   "execution_count": 69,
   "metadata": {},
   "outputs": [
    {
     "data": {
      "text/plain": [
       "SpearmanrResult(correlation=0.14725274725274726, pvalue=0.6154187624847252)"
      ]
     },
     "execution_count": 69,
     "metadata": {},
     "output_type": "execute_result"
    }
   ],
   "source": [
    "spearmanr(Y_dict[EPOCHS - 1], y_hat_dict[EPOCHS - 1])"
   ]
  },
  {
   "cell_type": "code",
   "execution_count": 70,
   "metadata": {},
   "outputs": [
    {
     "data": {
      "text/plain": [
       "(63,)"
      ]
     },
     "execution_count": 70,
     "metadata": {},
     "output_type": "execute_result"
    }
   ],
   "source": [
    "in_sample_Y_dict[EPOCHS-1].shape"
   ]
  },
  {
   "cell_type": "code",
   "execution_count": null,
   "metadata": {},
   "outputs": [],
   "source": []
  }
 ],
 "metadata": {
  "kernelspec": {
   "display_name": "Python 3",
   "language": "python",
   "name": "python3"
  },
  "language_info": {
   "codemirror_mode": {
    "name": "ipython",
    "version": 3
   },
   "file_extension": ".py",
   "mimetype": "text/x-python",
   "name": "python",
   "nbconvert_exporter": "python",
   "pygments_lexer": "ipython3",
   "version": "3.6.8"
  }
 },
 "nbformat": 4,
 "nbformat_minor": 2
}
